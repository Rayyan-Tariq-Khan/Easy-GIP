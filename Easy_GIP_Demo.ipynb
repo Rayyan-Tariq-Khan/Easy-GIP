{
  "cells": [
    {
      "cell_type": "markdown",
      "source": [
        "# **Setup**"
      ],
      "metadata": {
        "id": "3UWM4wr4O490"
      }
    },
    {
      "cell_type": "code",
      "execution_count": null,
      "metadata": {
        "id": "QbVdZFV8TsmO"
      },
      "outputs": [],
      "source": [
        "'''\n",
        "1. Please note that this is the demo version and all your data will be stored in\n",
        "an ephemeral drive. Any important analysis should be saved before closing the\n",
        "notebook. For a more definitive experience as well as for more information,\n",
        "try the non-demo version of this notebook on-\n",
        "https://github.com/Rayyan-Tariq-Khan/Easy-GIP\n",
        "'''\n"
      ]
    },
    {
      "cell_type": "code",
      "source": [
        "# 2. Install relevant poackages"
      ],
      "metadata": {
        "id": "JWHbKuu7_iuq"
      },
      "execution_count": null,
      "outputs": []
    },
    {
      "cell_type": "code",
      "execution_count": null,
      "metadata": {
        "id": "qemXeBEuTGZO",
        "collapsed": true
      },
      "outputs": [],
      "source": [
        "pip install gip-bio\n"
      ]
    },
    {
      "cell_type": "code",
      "source": [
        "pip install gip-bio"
      ],
      "metadata": {
        "id": "KPY5tu7N6qYf"
      },
      "execution_count": null,
      "outputs": []
    },
    {
      "cell_type": "code",
      "source": [
        "pip install multiprocess\n"
      ],
      "metadata": {
        "id": "DfSmDZW061Kw"
      },
      "execution_count": null,
      "outputs": []
    },
    {
      "cell_type": "code",
      "source": [
        "pip install igraph"
      ],
      "metadata": {
        "id": "8xgaJvnp7Edh"
      },
      "execution_count": null,
      "outputs": []
    },
    {
      "cell_type": "code",
      "source": [
        "pip install openpyxl\n"
      ],
      "metadata": {
        "id": "ZoJ7LYme7Chi"
      },
      "execution_count": null,
      "outputs": []
    },
    {
      "cell_type": "markdown",
      "source": [
        "# **Pre-processing**"
      ],
      "metadata": {
        "id": "Uc8j7RBVWzDP"
      }
    },
    {
      "cell_type": "code",
      "source": [
        "'''\n",
        "3. GIP cannot handle grouped identifiers, this code block creates a version of\n",
        "the Abundance sheet that only retains the first identifier in any grouping, as\n",
        "well as a lookup table that will be used later\n",
        "'''\n",
        "\n",
        "import pandas as pd\n",
        "\n",
        "# Modified GitHub URL to access raw file content\n",
        "url = \"https://raw.githubusercontent.com/Rayyan-Tariq-Khan/Easy-GIP/main/Input/Abundances.tsv\"\n",
        "\n",
        "\n",
        "# Load the data from the Abundances file\n",
        "benchmark = pd.read_csv(url, sep='\\t')\n",
        "\n",
        "# Initialize an empty list for the lookup table\n",
        "lookup_table = []\n",
        "\n",
        "# Function to process each row in the 'Protein IDs' column\n",
        "def process_protein_ids(row):\n",
        "    # Retrieve the 'Protein IDs' value for the current row\n",
        "    protein_ids = row['Protein IDs']\n",
        "\n",
        "    # Split the protein IDs by semicolon to handle multiple names\n",
        "    protein_names = protein_ids.split(';')\n",
        "\n",
        "    # Get the first protein name\n",
        "    first_protein_name = protein_names[0]\n",
        "\n",
        "    # Add to the lookup table with first name and full group of names\n",
        "    lookup_table.append({\n",
        "        'First Name': first_protein_name,\n",
        "        'Full Grouped Names': protein_ids\n",
        "    })\n",
        "\n",
        "    # Replace the current row's Protein ID with just the first name\n",
        "    return first_protein_name\n",
        "\n",
        "# Apply the function to each row in the 'Protein IDs' column\n",
        "benchmark['Protein IDs'] = benchmark.apply(process_protein_ids, axis=1)\n",
        "\n",
        "# Convert the lookup table to a DataFrame\n",
        "lookup_df = pd.DataFrame(lookup_table)\n",
        "\n",
        "# Save the modified benchmark table with only the first protein name\n",
        "benchmark.to_csv('/content/Abundances_modified.tsv', sep='\\t', index=False)\n",
        "\n",
        "# Save the lookup table (first names and full grouped names)\n",
        "lookup_df.to_csv('/content/protein_lookup_table.tsv', sep='\\t', index=False)\n",
        "\n",
        "\n",
        "print(\"Files saved: 'Abundances_modified.tsv' and 'protein_lookup_table.tsv to the Input folder'\")\n"
      ],
      "metadata": {
        "id": "mbAZM6SsIVq2",
        "colab": {
          "base_uri": "https://localhost:8080/"
        },
        "outputId": "6183917e-9948-4216-e835-ca9748d9f9f4"
      },
      "execution_count": 10,
      "outputs": [
        {
          "output_type": "stream",
          "name": "stdout",
          "text": [
            "Files saved: 'Abundances_modified.tsv' and 'protein_lookup_table.tsv to the Input folder'\n"
          ]
        }
      ]
    },
    {
      "cell_type": "markdown",
      "source": [
        "# **Calibration**"
      ],
      "metadata": {
        "id": "4qha6UNePG_a"
      }
    },
    {
      "cell_type": "code",
      "source": [
        "'''\n",
        "4.1. Calibrate your MW across slices by adding values of known slices to X and Y variables,\n",
        "and plot them. For a good calibration please ensure that first and last slices are\n",
        "represented in the X and Y variables. Also number of slices in the commented line below\n",
        "if your dataset has has more or less than 48 slices\n",
        "'''\n",
        "\n",
        "import numpy as np\n",
        "import pandas as pd\n",
        "import plotly.express as px\n",
        "from sklearn.linear_model import LinearRegression\n",
        "\n",
        "# Original slice numbers and molecular weights in Daltons\n",
        "X = np.array([8, 18, 23, 29, 35, 39]).reshape(-1, 1)  # Slice number\n",
        "Y = np.array([1048000, 720000, 480000, 242000, 146000, 66000])  # Molecular weight in Daltons\n",
        "\n",
        "# Apply base-10 log transformation to the molecular weight data\n",
        "Y_log10 = np.log10(Y)\n",
        "\n",
        "# Fit linear regression on the log-transformed data\n",
        "model = LinearRegression().fit(X, Y_log10)\n",
        "\n",
        "# Predict log-transformed molecular weights for all slices from 1 to 48\n",
        "X_all = np.arange(1, 49).reshape(-1, 1) # In np.arange(1, x) x should be number of slices in your dataset+1\n",
        "Y_pred_log10 = model.predict(X_all)\n",
        "\n",
        "# Revert predictions back to the original scale (10** for base-10) and convert to kilodaltons\n",
        "Y_pred_kDa = (10 ** Y_pred_log10) / 1000  # Convert to kilodaltons\n",
        "\n",
        "# Print slice number and predicted molecular weight in kilodaltons\n",
        "print(\"Predicted Molecular Weights (kDa) for Slices 1 to 48:\")\n",
        "for slice_num, mw in zip(X_all.flatten(), Y_pred_kDa):\n",
        "    print(f\"Slice {slice_num}: {mw:.2f} kDa\")\n",
        "\n",
        "# Plotting the original data with log10-linear trendline using Plotly Express\n",
        "df = pd.DataFrame({'Slice': X.flatten(), 'Log10_Molecular_Weight': Y_log10})\n",
        "fig = px.scatter(df, x=\"Slice\", y=\"Log10_Molecular_Weight\", trendline=\"ols\",\n",
        "                 title=\"Log10-Transformed Molecular Weight vs Slice Number (Linear Fit)\")\n",
        "\n",
        "fig.show()\n"
      ],
      "metadata": {
        "id": "FOk2hPacSkpq"
      },
      "execution_count": null,
      "outputs": []
    },
    {
      "cell_type": "code",
      "source": [
        "# 4.2. Calibrate your MW across slices by adding values of known slices to X and Y variables, and apply these values to your abundances sheet. The modified sheet's name can be changed in the final part of this block\n",
        "\n",
        "import numpy as np\n",
        "import pandas as pd\n",
        "from sklearn.linear_model import LinearRegression\n",
        "\n",
        "# Original slice numbers and molecular weights in Daltons\n",
        "X = np.array([8, 18, 23, 29, 35, 39]).reshape(-1, 1)  # Slice number\n",
        "Y = np.array([1048000, 720000, 480000, 242000, 146000, 66000])  # Molecular weight in Daltons\n",
        "\n",
        "# Ask user if the first slice represents the highest or lowest molecular weight\n",
        "user_input = input(\"Does Slice no. 1 represent the highest molecular weight (1) or the lowest (2)? Enter 1 or 2: \")\n",
        "if user_input == \"1\":\n",
        "    order_high_to_low = True\n",
        "elif user_input == \"2\":\n",
        "    order_high_to_low = False\n",
        "else:\n",
        "    raise ValueError(\"Invalid input. Please enter 1 or 2.\")\n",
        "\n",
        "# Apply base-10 log transformation to the molecular weight data\n",
        "Y_log10 = np.log10(Y)\n",
        "\n",
        "# Fit linear regression on the log-transformed data\n",
        "model = LinearRegression().fit(X, Y_log10)\n",
        "\n",
        "# Predict log-transformed molecular weights for all slices from 1 to 48\n",
        "X_all = np.arange(1, 49).reshape(-1, 1)\n",
        "Y_pred_log10 = model.predict(X_all)\n",
        "\n",
        "# Revert predictions back to the original scale (10** for base-10) and convert to kilodaltons\n",
        "Y_pred_kDa = (10 ** Y_pred_log10) / 1000  # Convert to kilodaltons and ignore decimals\n",
        "\n",
        "# Reverse the order if the first slice represents the lowest MW\n",
        "if not order_high_to_low:\n",
        "    Y_pred_kDa = Y_pred_kDa[::-1]\n",
        "\n",
        "# Load the original `Abundances_modified.tsv` file\n",
        "df_benchmark = pd.read_csv(\"/content/Abundances_modified.tsv\", sep='\\t')\n",
        "\n",
        "# Keep the original first column name\n",
        "first_column_name = df_benchmark.columns[0]\n",
        "\n",
        "# Rename only the numbered slice columns with molecular weight labels\n",
        "new_headers = [first_column_name] + [f\"{slice_num} - {int(mw)} kDa\" for slice_num, mw in zip(X_all.flatten(), Y_pred_kDa)]\n",
        "df_benchmark.columns = new_headers\n",
        "\n",
        "# Save the new file as `Abundances_final.tsv`\n",
        "df_benchmark.to_csv(\"/content/Abundances_final.tsv\", sep='\\t', index=False)\n",
        "\n",
        "print(\"Abundances_final.tsv has been created in the Input folder with updated headers including molecular weights.\")\n"
      ],
      "metadata": {
        "id": "uK1rLFalScdY",
        "colab": {
          "base_uri": "https://localhost:8080/"
        },
        "outputId": "d1c31cd4-097d-46cf-953e-91a74d35e41e"
      },
      "execution_count": 11,
      "outputs": [
        {
          "output_type": "stream",
          "name": "stdout",
          "text": [
            "Does the first slice represent the highest molecular weight (1) or the lowest (2)? Enter 1 or 2: 1\n",
            "Abundances_final.tsv has been created in the Input folder with updated headers including molecular weights.\n"
          ]
        }
      ]
    },
    {
      "cell_type": "markdown",
      "source": [
        "# **Run GIP**"
      ],
      "metadata": {
        "id": "jvoJsJxLW6s-"
      }
    },
    {
      "cell_type": "code",
      "execution_count": null,
      "metadata": {
        "id": "BhjDTB9-UXBt"
      },
      "outputs": [],
      "source": [
        "# 5. Run GIP\n",
        "\n",
        "from gip.main import main\n",
        "import gip.process_normalise as prn\n",
        "import pandas as pd\n",
        "\n",
        "# parse complexome profile and protein annotation file\n",
        "prof = prn.parse_profile('/content/Abundances_modified.tsv')\n",
        "#annot = pd.read_csv('Annotation.tsv',sep='\\t',index_col=0)\n",
        "\n",
        "# set ratio of clusters relative to number of detected proteins\n",
        "clust_ratio = 0.5\n",
        "\n",
        "# to run a standard run, using 4 threads for the bootstrapping\n",
        "gip_results = main(prof, clust_ratio, annot_df=None, bs_processes=4, clusttable_fn='/content/cluster_table.tsv', membertable_fn = '/content/mem_table.tsv', pdf_fn='/content/clusters_output.pdf')\n",
        "\n",
        "\n"
      ]
    },
    {
      "cell_type": "markdown",
      "source": [
        "# **Post-processing**"
      ],
      "metadata": {
        "id": "EulWgHXQW-_9"
      }
    },
    {
      "cell_type": "code",
      "source": [
        "# 6. Re-add grouped identifiers back to the GIP output (mem_table)\n",
        "\n",
        "import pandas as pd\n",
        "\n",
        "# Modified GitHub URL to access raw file content\n",
        "url = \"https://raw.githubusercontent.com/Rayyan-Tariq-Khan/Easy-GIP/main/Sample_GIP_Output_for_Demo/mem_table.tsv\"\n",
        "\n",
        "# Load the mem_table and lookup_table\n",
        "\n",
        "mem_table = pd.read_csv(url, sep='\\t')\n",
        "#mem_table = pd.read_csv('/content/mem_table.tsv', sep='\\t') #If you ran the 'Run GIP' cell above, then unhash this line, and hash the line directly above it\n",
        "lookup_table = pd.read_csv('/content/protein_lookup_table.tsv', sep='\\t')\n",
        "\n",
        "# Create a dictionary from the lookup table for fast lookup\n",
        "lookup_dict = pd.Series(lookup_table['Full Grouped Names'].values, index=lookup_table['First Name']).to_dict()\n",
        "\n",
        "# Function to replace the identifier with the full grouped names from the lookup table\n",
        "def replace_with_full_name(identifier):\n",
        "    # If the identifier is in the lookup dictionary, replace it with the full name\n",
        "    return lookup_dict.get(identifier, identifier)\n",
        "\n",
        "# Apply the function to the 'identifier' column in mem_table\n",
        "mem_table['identifier'] = mem_table['identifier'].apply(replace_with_full_name)\n",
        "\n",
        "# Save the modified mem_table to a new file\n",
        "mem_table.to_csv('/content/modified_mem_table.tsv', sep='\\t', index=False)\n",
        "\n",
        "print(\"File saved: 'modified_mem_table.tsv'\")\n"
      ],
      "metadata": {
        "id": "TlsOVhHbQFd0",
        "colab": {
          "base_uri": "https://localhost:8080/"
        },
        "outputId": "80434ad5-5200-46b1-8236-6b31c899eff7"
      },
      "execution_count": 14,
      "outputs": [
        {
          "output_type": "stream",
          "name": "stdout",
          "text": [
            "File saved: 'modified_mem_table.tsv'\n"
          ]
        }
      ]
    },
    {
      "cell_type": "code",
      "source": [
        "# 7. Add alternate identifiers from original data set to the GIP's output (mem_table)\n",
        "\n",
        "import pandas as pd\n",
        "\n",
        "# Modified GitHub URL to access raw file content\n",
        "url = \"https://raw.githubusercontent.com/Rayyan-Tariq-Khan/Easy-GIP/main/Input/ExtendedAbundances.xlsx\"\n",
        "\n",
        "# Load the modified mem table and original Abundances sheet\n",
        "modified_mem_table = pd.read_csv('/content/modified_mem_table.tsv', sep='\\t')\n",
        "original_benchmark = pd.read_excel(url)\n",
        "\n",
        "# Ask the user for the column header they want to match from the original Abundances sheet\n",
        "selected_column = input(f\"Please enter the column header from 'ExtendedAbundances.xlsx' you want to match and added to the final mem_table (you may pick Gene names for the demo): \")\n",
        "\n",
        "# Check if the selected column exists in the original Abundances sheet\n",
        "if selected_column not in original_benchmark.columns:\n",
        "    print(f\"Error: The column '{selected_column}' does not exist in the 'ExtendedAbundances.xlsx' file.\")\n",
        "else:\n",
        "    # Create a dictionary for fast lookup of identifiers in the original Abundances\n",
        "    # The dictionary will map individual identifiers to the corresponding name from the selected column\n",
        "    lookup_dict = {}\n",
        "\n",
        "    # Fill the lookup dictionary by splitting grouped identifiers from the selected column\n",
        "    for idx, row in original_benchmark.iterrows():\n",
        "        # Split identifiers in the selected column by semicolon and strip any whitespace\n",
        "        identifiers = str(row['Protein IDs']).split(';')\n",
        "        for identifier in identifiers:\n",
        "            lookup_dict[identifier.strip()] = row[selected_column]\n",
        "\n",
        "    # Function to map identifiers in mem table using the lookup dictionary\n",
        "    def map_identifiers(row):\n",
        "        # Split the identifiers in the 'identifier' column by semicolon\n",
        "        mem_identifiers = str(row['identifier']).split(';')\n",
        "\n",
        "        # Try to find a match in the lookup_dict\n",
        "        for mem_identifier in mem_identifiers:\n",
        "            mem_identifier = mem_identifier.strip()\n",
        "            if mem_identifier in lookup_dict:\n",
        "                return lookup_dict[mem_identifier]  # Return the matched name (e.g., 'IKBIP')\n",
        "\n",
        "        return None  # Return None if no match is found\n",
        "\n",
        "    # Apply the function to add the new column with matched names\n",
        "    modified_mem_table['Matched Identifiers'] = modified_mem_table.apply(map_identifiers, axis=1)\n",
        "\n",
        "    # Save the final mem table with the new matched identifiers column\n",
        "    modified_mem_table.to_csv('/content/final_mem_table.tsv', sep='\\t', index=False)\n",
        "\n",
        "    print(\"File saved: 'final_mem_table.tsv'\")\n"
      ],
      "metadata": {
        "id": "6RcdTK7DQrbH",
        "colab": {
          "base_uri": "https://localhost:8080/"
        },
        "outputId": "e79b36e4-c515-406e-bcfb-3dd01545acb5"
      },
      "execution_count": 15,
      "outputs": [
        {
          "output_type": "stream",
          "name": "stdout",
          "text": [
            "Please enter the column header from 'ExtendedAbundances.xlsx' you want to match and added to the final mem_table: Gene names\n",
            "File saved: 'final_mem_table.tsv'\n"
          ]
        }
      ]
    },
    {
      "cell_type": "markdown",
      "source": [
        "# **Summarize, Lookup, and Plot**"
      ],
      "metadata": {
        "id": "mYQC-MtJXKIB"
      }
    },
    {
      "cell_type": "code",
      "source": [
        "# 8. Summarize GIP's run statistics\n",
        "\n",
        "import pandas as pd\n",
        "\n",
        "# Load the final mem table\n",
        "final_mem_table = pd.read_csv('/content/final_mem_table.tsv', sep='\\t')\n",
        "\n",
        "# Perform analysis on the number of clusters\n",
        "total_clusters = final_mem_table['clust_id'].nunique()\n",
        "\n",
        "# Calculate total number of proteins\n",
        "total_proteins = final_mem_table['identifier'].nunique()\n",
        "\n",
        "# Group by cluster and count the number of proteins in each cluster\n",
        "proteins_per_cluster = final_mem_table.groupby('clust_id')['identifier'].count()\n",
        "\n",
        "# Find the max, min, and average number of proteins per cluster\n",
        "max_proteins_in_cluster = proteins_per_cluster.max()\n",
        "min_proteins_in_cluster = proteins_per_cluster.min()\n",
        "avg_proteins_per_cluster = proteins_per_cluster.mean()\n",
        "\n",
        "# Print the results\n",
        "print(f\"Summary Statistics for Final Mem Table:\")\n",
        "print(f\"----------------------------------------\")\n",
        "print(f\"Total number of clusters: {total_clusters}\")\n",
        "print(f\"Total number of unique proteins: {total_proteins}\")\n",
        "print(f\"Maximum number of proteins in a cluster: {max_proteins_in_cluster}\")\n",
        "print(f\"Minimum number of proteins in a cluster: {min_proteins_in_cluster}\")\n",
        "print(f\"Average number of proteins per cluster: {avg_proteins_per_cluster:.2f}\")\n"
      ],
      "metadata": {
        "id": "JU9sZHVUnFDD",
        "colab": {
          "base_uri": "https://localhost:8080/"
        },
        "outputId": "caa22c06-44a9-4fcb-a022-ca41445955a1"
      },
      "execution_count": 16,
      "outputs": [
        {
          "output_type": "stream",
          "name": "stdout",
          "text": [
            "Summary Statistics for Final Mem Table:\n",
            "----------------------------------------\n",
            "Total number of clusters: 137\n",
            "Total number of unique proteins: 643\n",
            "Maximum number of proteins in a cluster: 30\n",
            "Minimum number of proteins in a cluster: 2\n",
            "Average number of proteins per cluster: 4.69\n"
          ]
        }
      ]
    },
    {
      "cell_type": "code",
      "source": [
        "# 9. find the cluster number and interactors of a protein of interest\n",
        "\n",
        "import pandas as pd\n",
        "\n",
        "# Load the final mem table\n",
        "final_mem_table = pd.read_csv('/content/final_mem_table.tsv', sep='\\t')\n",
        "\n",
        "# User can modify this variable to point to the correct identifier column\n",
        "identifier_column = 'Matched Identifiers'  # This is the column that has the protein names/identifiers\n",
        "\n",
        "# Function to look up the protein and its cluster members\n",
        "def lookup_protein(protein_name):\n",
        "    # Find the row with the given protein name\n",
        "    matching_row = final_mem_table[final_mem_table[identifier_column].str.contains(protein_name, na=False)]\n",
        "\n",
        "    if matching_row.empty:\n",
        "        print(f\"Protein '{protein_name}' not found in the {identifier_column} column.\")\n",
        "    else:\n",
        "        # Get the cluster ID for the matched protein\n",
        "        cluster_id = matching_row.iloc[0]['clust_id']\n",
        "\n",
        "        # Find all proteins in the same cluster\n",
        "        cluster_members = final_mem_table[final_mem_table['clust_id'] == cluster_id][identifier_column]\n",
        "\n",
        "        # Print the results\n",
        "        print(f\"Protein '{protein_name}' is in cluster {cluster_id}.\")\n",
        "        print(f\"Other members in the same cluster ({cluster_id}):\")\n",
        "        print(cluster_members.tolist())\n",
        "\n",
        "# Example usage: Call the function with the name of the protein you're looking for\n",
        "protein_to_search = input(\"Enter the name of the protein: \")\n",
        "lookup_protein(protein_to_search)\n"
      ],
      "metadata": {
        "id": "HWT5HlEUnHx4",
        "colab": {
          "base_uri": "https://localhost:8080/"
        },
        "outputId": "9aeea325-8ca6-48f4-a891-000b6048c1a5"
      },
      "execution_count": 17,
      "outputs": [
        {
          "output_type": "stream",
          "name": "stdout",
          "text": [
            "Enter the name of the protein: GBF1\n",
            "Protein 'GBF1' is in cluster 5.\n",
            "Other members in the same cluster (5):\n",
            "['GBF1', 'GPAA1', 'CYFIP1', 'NCKAP1']\n"
          ]
        }
      ]
    },
    {
      "cell_type": "code",
      "source": [
        "# 10.1 Process the output for visualization\n",
        "\n",
        "import pandas as pd\n",
        "\n",
        "# Load the TSV file into a DataFrame\n",
        "mem_table = pd.read_csv('/content/final_mem_table.tsv', sep='\\t')\n",
        "\n",
        "# Function to keep only the first protein ID if multiple are grouped\n",
        "def keep_first_id(identifier):\n",
        "    return identifier.split(';')[0]  # Split by semicolon and keep the first item\n",
        "\n",
        "# Apply the function to the 'identifier' column\n",
        "mem_table['identifier'] = mem_table['identifier'].apply(keep_first_id)\n",
        "\n",
        "# Save the modified DataFrame to a new TSV file\n",
        "mem_table.to_csv('/content/inter_mem_table.tsv', sep='\\t', index=False)\n",
        "\n",
        "print(\"File saved as 'inter_mem_table.tsv'\")\n"
      ],
      "metadata": {
        "colab": {
          "base_uri": "https://localhost:8080/"
        },
        "id": "k_W4vkyZGauv",
        "outputId": "6ac552d7-c003-4848-c4cc-1d818e7c4f15"
      },
      "execution_count": 26,
      "outputs": [
        {
          "output_type": "stream",
          "name": "stdout",
          "text": [
            "File saved as 'inter_mem_table.tsv'\n"
          ]
        }
      ]
    },
    {
      "cell_type": "code",
      "source": [
        "# 10.2 Generate profile plot for a GIP identified cluster\n",
        "\n",
        "import pandas as pd\n",
        "import plotly.graph_objs as go\n",
        "import plotly.io as pio\n",
        "\n",
        "# Set Plotly to display inline in notebook (important for Colab)\n",
        "pio.renderers.default = 'colab'\n",
        "\n",
        "# Function to load TSV files and return dataframes\n",
        "\n",
        "def load_data():\n",
        "    inter_mem_table = pd.read_csv('/content/inter_mem_table.tsv', sep='\\t')\n",
        "    benchmark_modified = pd.read_csv('/content/Abundances_modified.tsv', sep='\\t')\n",
        "    return inter_mem_table, benchmark_modified\n",
        "\n",
        "# Function to plot the profiles of proteins in a given cluster\n",
        "def plot_protein_profiles(cluster_number, inter_mem_table, benchmark_modified):\n",
        "    # Find all proteins with the specified cluster number in final_mem_table\n",
        "    cluster_proteins = inter_mem_table[inter_mem_table['clust_id'] == cluster_number]['identifier'].tolist()\n",
        "\n",
        "    if not cluster_proteins:\n",
        "        print(f\"No proteins found in cluster {cluster_number}.\")\n",
        "        return\n",
        "\n",
        "    print(f\"Proteins in cluster {cluster_number}: {cluster_proteins}\")\n",
        "\n",
        "    # Prepare data for plotting\n",
        "    traces = []\n",
        "\n",
        "    for protein in cluster_proteins:\n",
        "        # Find the protein in the Abundances_modified table by matching exact identifiers or parts of grouped identifiers\n",
        "        benchmark_row = benchmark_modified[benchmark_modified['Protein IDs'].apply(lambda x: any(p in x.split(';') for p in [protein]))]\n",
        "\n",
        "        if not benchmark_row.empty:\n",
        "            # Extract the x-axis (column headers) and y-axis (values in the row for the protein)\n",
        "            x_values = benchmark_modified.columns[1:]  # X-axis: all columns except the first (Protein IDs)\n",
        "            y_values = benchmark_row.iloc[0, 1:].values  # Y-axis: corresponding values for the protein\n",
        "\n",
        "            # Create a trace for the protein's profile\n",
        "            trace = go.Scatter(\n",
        "                x=x_values,\n",
        "                y=y_values,\n",
        "                mode='lines+markers',\n",
        "                name=benchmark_row.iloc[0, 0]  # Full name from the Abundances file for better labeling\n",
        "            )\n",
        "            traces.append(trace)\n",
        "\n",
        "    # If there are any traces (proteins found in Abundances_modified), plot them\n",
        "    if traces:\n",
        "        layout = go.Layout(\n",
        "            title=f'Protein Profiles for Cluster {cluster_number}',\n",
        "            xaxis=dict(title='Benchmark Columns (X-axis)'),\n",
        "            yaxis=dict(title='Values (Y-axis)'),\n",
        "        )\n",
        "\n",
        "        fig = go.Figure(data=traces, layout=layout)\n",
        "        fig.show()  # Display the plot directly in the notebook\n",
        "    else:\n",
        "        print(f\"No proteins from cluster {cluster_number} found in Abundances_modified.tsv.\")\n",
        "\n",
        "# Main function to execute the code\n",
        "def main():\n",
        "    # Load the data\n",
        "    final_mem_table, benchmark_modified = load_data()\n",
        "\n",
        "    # Get the cluster number from the user\n",
        "    cluster_number = int(input(\"Enter the cluster number: \"))\n",
        "\n",
        "    # Plot the protein profiles for the given cluster\n",
        "    plot_protein_profiles(cluster_number, final_mem_table, benchmark_modified)\n",
        "\n",
        "# Run the main function\n",
        "main()\n"
      ],
      "metadata": {
        "id": "GGNUrr1HtnBI",
        "colab": {
          "base_uri": "https://localhost:8080/",
          "height": 577
        },
        "outputId": "1d1b405d-52ab-4861-ab89-05758538f6d5"
      },
      "execution_count": 29,
      "outputs": [
        {
          "output_type": "stream",
          "name": "stdout",
          "text": [
            "Enter the cluster number: 5\n",
            "Proteins in cluster 5: ['Q92538', 'O43292', 'Q7L576', 'Q9Y2A7']\n"
          ]
        },
        {
          "output_type": "display_data",
          "data": {
            "text/html": [
              "<html>\n",
              "<head><meta charset=\"utf-8\" /></head>\n",
              "<body>\n",
              "    <div>            <script src=\"https://cdnjs.cloudflare.com/ajax/libs/mathjax/2.7.5/MathJax.js?config=TeX-AMS-MML_SVG\"></script><script type=\"text/javascript\">if (window.MathJax && window.MathJax.Hub && window.MathJax.Hub.Config) {window.MathJax.Hub.Config({SVG: {font: \"STIX-Web\"}});}</script>                <script type=\"text/javascript\">window.PlotlyConfig = {MathJaxConfig: 'local'};</script>\n",
              "        <script charset=\"utf-8\" src=\"https://cdn.plot.ly/plotly-2.35.2.min.js\"></script>                <div id=\"9cde12c5-b133-473c-95f3-6ca26f813717\" class=\"plotly-graph-div\" style=\"height:525px; width:100%;\"></div>            <script type=\"text/javascript\">                                    window.PLOTLYENV=window.PLOTLYENV || {};                                    if (document.getElementById(\"9cde12c5-b133-473c-95f3-6ca26f813717\")) {                    Plotly.newPlot(                        \"9cde12c5-b133-473c-95f3-6ca26f813717\",                        [{\"mode\":\"lines+markers\",\"name\":\"Q92538\",\"x\":[\"1\",\"2\",\"3\",\"4\",\"5\",\"6\",\"7\",\"8\",\"9\",\"10\",\"11\",\"12\",\"13\",\"14\",\"15\",\"16\",\"17\",\"18\",\"19\",\"20\",\"21\",\"22\",\"23\",\"24\",\"25\",\"26\",\"27\",\"28\",\"29\",\"30\",\"31\",\"32\",\"33\",\"34\",\"35\",\"36\",\"37\",\"38\",\"39\",\"40\",\"41\",\"42\",\"43\",\"44\",\"45\",\"46\",\"47\",\"48\"],\"y\":[0.0,0.0,0.0,0.0,0.0,0.0,0.0,0,0.0,0.0,0.0,0.0,0.0,0.0,0,0.0,0.0,0.0,0.0,96424.0,18269.0,77531.0,360410.0,381860.0,325160.0,1883100.0,234440.0,233150.0,32710.0,118120.0,207260.0,229870.0,0.0,0.0,0.0,0.0,0.0,0.0,0.0,0.0,0.0,0.0,0.0,0.0,0.0,0.0,0.0,0.0],\"type\":\"scatter\"},{\"mode\":\"lines+markers\",\"name\":\"O43292\",\"x\":[\"1\",\"2\",\"3\",\"4\",\"5\",\"6\",\"7\",\"8\",\"9\",\"10\",\"11\",\"12\",\"13\",\"14\",\"15\",\"16\",\"17\",\"18\",\"19\",\"20\",\"21\",\"22\",\"23\",\"24\",\"25\",\"26\",\"27\",\"28\",\"29\",\"30\",\"31\",\"32\",\"33\",\"34\",\"35\",\"36\",\"37\",\"38\",\"39\",\"40\",\"41\",\"42\",\"43\",\"44\",\"45\",\"46\",\"47\",\"48\"],\"y\":[0.0,0.0,0.0,0.0,0.0,0.0,0.0,0,0.0,0.0,0.0,0.0,0.0,0.0,0,0.0,0.0,0.0,0.0,0.0,0.0,0.0,347340.0,4721000.0,5070400.0,21005000.0,2526000.0,3067200.0,806250.0,1978200.0,2189000.0,2326300.0,3387.3,26435.0,71621.0,0.0,0.0,0.0,0.0,0.0,0.0,0.0,0.0,0.0,0.0,0.0,0.0,0.0],\"type\":\"scatter\"},{\"mode\":\"lines+markers\",\"name\":\"Q7L576\",\"x\":[\"1\",\"2\",\"3\",\"4\",\"5\",\"6\",\"7\",\"8\",\"9\",\"10\",\"11\",\"12\",\"13\",\"14\",\"15\",\"16\",\"17\",\"18\",\"19\",\"20\",\"21\",\"22\",\"23\",\"24\",\"25\",\"26\",\"27\",\"28\",\"29\",\"30\",\"31\",\"32\",\"33\",\"34\",\"35\",\"36\",\"37\",\"38\",\"39\",\"40\",\"41\",\"42\",\"43\",\"44\",\"45\",\"46\",\"47\",\"48\"],\"y\":[0.0,0.0,0.0,0.0,0.0,0.0,0.0,0,0.0,0.0,0.0,0.0,0.0,0.0,0,0.0,6786.7,269680.0,38262.0,548950.0,61866.0,45930.0,1873700.0,4990800.0,4571400.0,14086000.0,1740500.0,2721300.0,626540.0,2821800.0,2325900.0,2366700.0,7269.0,29371.0,134010.0,448680.0,336230.0,278880.0,287540.0,278300.0,113740.0,91681.0,94168.0,134670.0,39768.0,90775.0,0.0,0.0],\"type\":\"scatter\"},{\"mode\":\"lines+markers\",\"name\":\"Q9Y2A7\",\"x\":[\"1\",\"2\",\"3\",\"4\",\"5\",\"6\",\"7\",\"8\",\"9\",\"10\",\"11\",\"12\",\"13\",\"14\",\"15\",\"16\",\"17\",\"18\",\"19\",\"20\",\"21\",\"22\",\"23\",\"24\",\"25\",\"26\",\"27\",\"28\",\"29\",\"30\",\"31\",\"32\",\"33\",\"34\",\"35\",\"36\",\"37\",\"38\",\"39\",\"40\",\"41\",\"42\",\"43\",\"44\",\"45\",\"46\",\"47\",\"48\"],\"y\":[0.0,0.0,0.0,0.0,0.0,0.0,0.0,0,0.0,0.0,0.0,0.0,0.0,34103.0,189610,316020.0,26197.0,45702.0,0.0,0.0,0.0,88422.0,615940.0,1693800.0,1329400.0,5297600.0,498510.0,694230.0,147690.0,923980.0,577040.0,522700.0,0.0,0.0,0.0,0.0,0.0,0.0,0.0,0.0,10555.0,13728.0,13702.0,16925.0,7584.2,13213.0,0.0,0.0],\"type\":\"scatter\"}],                        {\"title\":{\"text\":\"Protein Profiles for Cluster 5\"},\"xaxis\":{\"title\":{\"text\":\"Benchmark Columns (X-axis)\"}},\"yaxis\":{\"title\":{\"text\":\"Values (Y-axis)\"}},\"template\":{\"data\":{\"histogram2dcontour\":[{\"type\":\"histogram2dcontour\",\"colorbar\":{\"outlinewidth\":0,\"ticks\":\"\"},\"colorscale\":[[0.0,\"#0d0887\"],[0.1111111111111111,\"#46039f\"],[0.2222222222222222,\"#7201a8\"],[0.3333333333333333,\"#9c179e\"],[0.4444444444444444,\"#bd3786\"],[0.5555555555555556,\"#d8576b\"],[0.6666666666666666,\"#ed7953\"],[0.7777777777777778,\"#fb9f3a\"],[0.8888888888888888,\"#fdca26\"],[1.0,\"#f0f921\"]]}],\"choropleth\":[{\"type\":\"choropleth\",\"colorbar\":{\"outlinewidth\":0,\"ticks\":\"\"}}],\"histogram2d\":[{\"type\":\"histogram2d\",\"colorbar\":{\"outlinewidth\":0,\"ticks\":\"\"},\"colorscale\":[[0.0,\"#0d0887\"],[0.1111111111111111,\"#46039f\"],[0.2222222222222222,\"#7201a8\"],[0.3333333333333333,\"#9c179e\"],[0.4444444444444444,\"#bd3786\"],[0.5555555555555556,\"#d8576b\"],[0.6666666666666666,\"#ed7953\"],[0.7777777777777778,\"#fb9f3a\"],[0.8888888888888888,\"#fdca26\"],[1.0,\"#f0f921\"]]}],\"heatmap\":[{\"type\":\"heatmap\",\"colorbar\":{\"outlinewidth\":0,\"ticks\":\"\"},\"colorscale\":[[0.0,\"#0d0887\"],[0.1111111111111111,\"#46039f\"],[0.2222222222222222,\"#7201a8\"],[0.3333333333333333,\"#9c179e\"],[0.4444444444444444,\"#bd3786\"],[0.5555555555555556,\"#d8576b\"],[0.6666666666666666,\"#ed7953\"],[0.7777777777777778,\"#fb9f3a\"],[0.8888888888888888,\"#fdca26\"],[1.0,\"#f0f921\"]]}],\"heatmapgl\":[{\"type\":\"heatmapgl\",\"colorbar\":{\"outlinewidth\":0,\"ticks\":\"\"},\"colorscale\":[[0.0,\"#0d0887\"],[0.1111111111111111,\"#46039f\"],[0.2222222222222222,\"#7201a8\"],[0.3333333333333333,\"#9c179e\"],[0.4444444444444444,\"#bd3786\"],[0.5555555555555556,\"#d8576b\"],[0.6666666666666666,\"#ed7953\"],[0.7777777777777778,\"#fb9f3a\"],[0.8888888888888888,\"#fdca26\"],[1.0,\"#f0f921\"]]}],\"contourcarpet\":[{\"type\":\"contourcarpet\",\"colorbar\":{\"outlinewidth\":0,\"ticks\":\"\"}}],\"contour\":[{\"type\":\"contour\",\"colorbar\":{\"outlinewidth\":0,\"ticks\":\"\"},\"colorscale\":[[0.0,\"#0d0887\"],[0.1111111111111111,\"#46039f\"],[0.2222222222222222,\"#7201a8\"],[0.3333333333333333,\"#9c179e\"],[0.4444444444444444,\"#bd3786\"],[0.5555555555555556,\"#d8576b\"],[0.6666666666666666,\"#ed7953\"],[0.7777777777777778,\"#fb9f3a\"],[0.8888888888888888,\"#fdca26\"],[1.0,\"#f0f921\"]]}],\"surface\":[{\"type\":\"surface\",\"colorbar\":{\"outlinewidth\":0,\"ticks\":\"\"},\"colorscale\":[[0.0,\"#0d0887\"],[0.1111111111111111,\"#46039f\"],[0.2222222222222222,\"#7201a8\"],[0.3333333333333333,\"#9c179e\"],[0.4444444444444444,\"#bd3786\"],[0.5555555555555556,\"#d8576b\"],[0.6666666666666666,\"#ed7953\"],[0.7777777777777778,\"#fb9f3a\"],[0.8888888888888888,\"#fdca26\"],[1.0,\"#f0f921\"]]}],\"mesh3d\":[{\"type\":\"mesh3d\",\"colorbar\":{\"outlinewidth\":0,\"ticks\":\"\"}}],\"scatter\":[{\"fillpattern\":{\"fillmode\":\"overlay\",\"size\":10,\"solidity\":0.2},\"type\":\"scatter\"}],\"parcoords\":[{\"type\":\"parcoords\",\"line\":{\"colorbar\":{\"outlinewidth\":0,\"ticks\":\"\"}}}],\"scatterpolargl\":[{\"type\":\"scatterpolargl\",\"marker\":{\"colorbar\":{\"outlinewidth\":0,\"ticks\":\"\"}}}],\"bar\":[{\"error_x\":{\"color\":\"#2a3f5f\"},\"error_y\":{\"color\":\"#2a3f5f\"},\"marker\":{\"line\":{\"color\":\"#E5ECF6\",\"width\":0.5},\"pattern\":{\"fillmode\":\"overlay\",\"size\":10,\"solidity\":0.2}},\"type\":\"bar\"}],\"scattergeo\":[{\"type\":\"scattergeo\",\"marker\":{\"colorbar\":{\"outlinewidth\":0,\"ticks\":\"\"}}}],\"scatterpolar\":[{\"type\":\"scatterpolar\",\"marker\":{\"colorbar\":{\"outlinewidth\":0,\"ticks\":\"\"}}}],\"histogram\":[{\"marker\":{\"pattern\":{\"fillmode\":\"overlay\",\"size\":10,\"solidity\":0.2}},\"type\":\"histogram\"}],\"scattergl\":[{\"type\":\"scattergl\",\"marker\":{\"colorbar\":{\"outlinewidth\":0,\"ticks\":\"\"}}}],\"scatter3d\":[{\"type\":\"scatter3d\",\"line\":{\"colorbar\":{\"outlinewidth\":0,\"ticks\":\"\"}},\"marker\":{\"colorbar\":{\"outlinewidth\":0,\"ticks\":\"\"}}}],\"scattermapbox\":[{\"type\":\"scattermapbox\",\"marker\":{\"colorbar\":{\"outlinewidth\":0,\"ticks\":\"\"}}}],\"scatterternary\":[{\"type\":\"scatterternary\",\"marker\":{\"colorbar\":{\"outlinewidth\":0,\"ticks\":\"\"}}}],\"scattercarpet\":[{\"type\":\"scattercarpet\",\"marker\":{\"colorbar\":{\"outlinewidth\":0,\"ticks\":\"\"}}}],\"carpet\":[{\"aaxis\":{\"endlinecolor\":\"#2a3f5f\",\"gridcolor\":\"white\",\"linecolor\":\"white\",\"minorgridcolor\":\"white\",\"startlinecolor\":\"#2a3f5f\"},\"baxis\":{\"endlinecolor\":\"#2a3f5f\",\"gridcolor\":\"white\",\"linecolor\":\"white\",\"minorgridcolor\":\"white\",\"startlinecolor\":\"#2a3f5f\"},\"type\":\"carpet\"}],\"table\":[{\"cells\":{\"fill\":{\"color\":\"#EBF0F8\"},\"line\":{\"color\":\"white\"}},\"header\":{\"fill\":{\"color\":\"#C8D4E3\"},\"line\":{\"color\":\"white\"}},\"type\":\"table\"}],\"barpolar\":[{\"marker\":{\"line\":{\"color\":\"#E5ECF6\",\"width\":0.5},\"pattern\":{\"fillmode\":\"overlay\",\"size\":10,\"solidity\":0.2}},\"type\":\"barpolar\"}],\"pie\":[{\"automargin\":true,\"type\":\"pie\"}]},\"layout\":{\"autotypenumbers\":\"strict\",\"colorway\":[\"#636efa\",\"#EF553B\",\"#00cc96\",\"#ab63fa\",\"#FFA15A\",\"#19d3f3\",\"#FF6692\",\"#B6E880\",\"#FF97FF\",\"#FECB52\"],\"font\":{\"color\":\"#2a3f5f\"},\"hovermode\":\"closest\",\"hoverlabel\":{\"align\":\"left\"},\"paper_bgcolor\":\"white\",\"plot_bgcolor\":\"#E5ECF6\",\"polar\":{\"bgcolor\":\"#E5ECF6\",\"angularaxis\":{\"gridcolor\":\"white\",\"linecolor\":\"white\",\"ticks\":\"\"},\"radialaxis\":{\"gridcolor\":\"white\",\"linecolor\":\"white\",\"ticks\":\"\"}},\"ternary\":{\"bgcolor\":\"#E5ECF6\",\"aaxis\":{\"gridcolor\":\"white\",\"linecolor\":\"white\",\"ticks\":\"\"},\"baxis\":{\"gridcolor\":\"white\",\"linecolor\":\"white\",\"ticks\":\"\"},\"caxis\":{\"gridcolor\":\"white\",\"linecolor\":\"white\",\"ticks\":\"\"}},\"coloraxis\":{\"colorbar\":{\"outlinewidth\":0,\"ticks\":\"\"}},\"colorscale\":{\"sequential\":[[0.0,\"#0d0887\"],[0.1111111111111111,\"#46039f\"],[0.2222222222222222,\"#7201a8\"],[0.3333333333333333,\"#9c179e\"],[0.4444444444444444,\"#bd3786\"],[0.5555555555555556,\"#d8576b\"],[0.6666666666666666,\"#ed7953\"],[0.7777777777777778,\"#fb9f3a\"],[0.8888888888888888,\"#fdca26\"],[1.0,\"#f0f921\"]],\"sequentialminus\":[[0.0,\"#0d0887\"],[0.1111111111111111,\"#46039f\"],[0.2222222222222222,\"#7201a8\"],[0.3333333333333333,\"#9c179e\"],[0.4444444444444444,\"#bd3786\"],[0.5555555555555556,\"#d8576b\"],[0.6666666666666666,\"#ed7953\"],[0.7777777777777778,\"#fb9f3a\"],[0.8888888888888888,\"#fdca26\"],[1.0,\"#f0f921\"]],\"diverging\":[[0,\"#8e0152\"],[0.1,\"#c51b7d\"],[0.2,\"#de77ae\"],[0.3,\"#f1b6da\"],[0.4,\"#fde0ef\"],[0.5,\"#f7f7f7\"],[0.6,\"#e6f5d0\"],[0.7,\"#b8e186\"],[0.8,\"#7fbc41\"],[0.9,\"#4d9221\"],[1,\"#276419\"]]},\"xaxis\":{\"gridcolor\":\"white\",\"linecolor\":\"white\",\"ticks\":\"\",\"title\":{\"standoff\":15},\"zerolinecolor\":\"white\",\"automargin\":true,\"zerolinewidth\":2},\"yaxis\":{\"gridcolor\":\"white\",\"linecolor\":\"white\",\"ticks\":\"\",\"title\":{\"standoff\":15},\"zerolinecolor\":\"white\",\"automargin\":true,\"zerolinewidth\":2},\"scene\":{\"xaxis\":{\"backgroundcolor\":\"#E5ECF6\",\"gridcolor\":\"white\",\"linecolor\":\"white\",\"showbackground\":true,\"ticks\":\"\",\"zerolinecolor\":\"white\",\"gridwidth\":2},\"yaxis\":{\"backgroundcolor\":\"#E5ECF6\",\"gridcolor\":\"white\",\"linecolor\":\"white\",\"showbackground\":true,\"ticks\":\"\",\"zerolinecolor\":\"white\",\"gridwidth\":2},\"zaxis\":{\"backgroundcolor\":\"#E5ECF6\",\"gridcolor\":\"white\",\"linecolor\":\"white\",\"showbackground\":true,\"ticks\":\"\",\"zerolinecolor\":\"white\",\"gridwidth\":2}},\"shapedefaults\":{\"line\":{\"color\":\"#2a3f5f\"}},\"annotationdefaults\":{\"arrowcolor\":\"#2a3f5f\",\"arrowhead\":0,\"arrowwidth\":1},\"geo\":{\"bgcolor\":\"white\",\"landcolor\":\"#E5ECF6\",\"subunitcolor\":\"white\",\"showland\":true,\"showlakes\":true,\"lakecolor\":\"white\"},\"title\":{\"x\":0.05},\"mapbox\":{\"style\":\"light\"}}}},                        {\"responsive\": true}                    ).then(function(){\n",
              "                            \n",
              "var gd = document.getElementById('9cde12c5-b133-473c-95f3-6ca26f813717');\n",
              "var x = new MutationObserver(function (mutations, observer) {{\n",
              "        var display = window.getComputedStyle(gd).display;\n",
              "        if (!display || display === 'none') {{\n",
              "            console.log([gd, 'removed!']);\n",
              "            Plotly.purge(gd);\n",
              "            observer.disconnect();\n",
              "        }}\n",
              "}});\n",
              "\n",
              "// Listen for the removal of the full notebook cells\n",
              "var notebookContainer = gd.closest('#notebook-container');\n",
              "if (notebookContainer) {{\n",
              "    x.observe(notebookContainer, {childList: true});\n",
              "}}\n",
              "\n",
              "// Listen for the clearing of the current output cell\n",
              "var outputEl = gd.closest('.output');\n",
              "if (outputEl) {{\n",
              "    x.observe(outputEl, {childList: true});\n",
              "}}\n",
              "\n",
              "                        })                };                            </script>        </div>\n",
              "</body>\n",
              "</html>"
            ]
          },
          "metadata": {}
        }
      ]
    },
    {
      "cell_type": "markdown",
      "source": [
        "# **Cluster Analysis**"
      ],
      "metadata": {
        "id": "kxLTqQeLXSX9"
      }
    },
    {
      "cell_type": "code",
      "source": [
        "''' 11. If you have an excel workbook where each complex has a seprate sheet\n",
        "and each protein in the complex is in a different row (each protein may have different identifiers,)\n",
        "then this code block lets you track the GIP identified interactors of each of those proteins in a complex\n",
        "by listing them in front of each protein in a separate, new column\n",
        "select options 1, 1 and 6 for a demo.\n",
        "'''\n",
        "import pandas as pd\n",
        "\n",
        "# Modified GitHub URL to access raw file content\n",
        "url = \"https://raw.githubusercontent.com/Rayyan-Tariq-Khan/Easy-GIP/main/Input/Complexes.xlsx\"\n",
        "\n",
        "# Function to load the Excel workbook and mem table TSV\n",
        "def load_data():\n",
        "    # Load the Excel workbook (Complexes.xlsx) with all its sheets\n",
        "    workbook = pd.ExcelFile(url)\n",
        "\n",
        "    # Load the final mem table TSV file\n",
        "    mem_table = pd.read_csv('/content/final_mem_table.tsv', sep='\\t')\n",
        "\n",
        "    return workbook, mem_table\n",
        "\n",
        "# Function to display available sheets and allow user to select one\n",
        "def select_sheet(workbook):\n",
        "    sheets = workbook.sheet_names\n",
        "    print(\"Available sheets:\")\n",
        "    for idx, sheet in enumerate(sheets):\n",
        "        print(f\"{idx + 1}: {sheet}\")\n",
        "\n",
        "    sheet_index = int(input(\"\\nSelect the sheet which has your complex: \")) - 1\n",
        "    selected_sheet_name = sheets[sheet_index]\n",
        "    selected_sheet = workbook.parse(selected_sheet_name)\n",
        "    return selected_sheet, selected_sheet_name\n",
        "\n",
        "# Function to display available columns and allow user to select one\n",
        "def select_column(df):\n",
        "    print(\"\\nAvailable columns:\")\n",
        "    for idx, col in enumerate(df.columns):\n",
        "        print(f\"{idx + 1}: {col}\")\n",
        "\n",
        "    col_index = int(input(\"\\nSelect the column which has chosen identifier by number: \")) - 1\n",
        "    selected_column = df.columns[col_index]\n",
        "    return selected_column\n",
        "\n",
        "# Function to add a new column with proteins from the same cluster\n",
        "def add_cluster_info(selected_sheet, selected_column, mem_table, mem_column):\n",
        "    # Create a new column to store the cluster proteins\n",
        "    cluster_protein_col = []\n",
        "\n",
        "    for protein in selected_sheet[selected_column]:\n",
        "        # Find the cluster for the protein in the mem table\n",
        "        matching_row = mem_table[mem_table[mem_column].apply(lambda x: any(p == x for p in protein.split(';')))]\n",
        "\n",
        "        if not matching_row.empty:\n",
        "            cluster_number = matching_row.iloc[0]['clust_id']\n",
        "            # Find all proteins in that cluster\n",
        "            cluster_proteins = mem_table[mem_table['clust_id'] == cluster_number][mem_column].tolist()\n",
        "            # Create a comma-separated string of all proteins in the cluster\n",
        "            cluster_protein_col.append(', '.join(cluster_proteins))\n",
        "        else:\n",
        "            cluster_protein_col.append('')\n",
        "\n",
        "    # Add the new column to the selected sheet\n",
        "    selected_sheet['Cluster Proteins'] = cluster_protein_col\n",
        "\n",
        "    return selected_sheet\n",
        "\n",
        "# Main function to execute the code\n",
        "def main():\n",
        "    # Load data\n",
        "    workbook, mem_table = load_data()\n",
        "\n",
        "    # Step 1: Select the sheet from Complexes.xlsx\n",
        "    selected_sheet, selected_sheet_name = select_sheet(workbook)\n",
        "\n",
        "    # Step 2: Select the column with protein identifiers in the selected sheet\n",
        "    selected_column = select_column(selected_sheet)\n",
        "\n",
        "    # Step 3: Select the column with protein identifiers in the mem table\n",
        "    mem_column = select_column(mem_table)\n",
        "\n",
        "    # Step 4: Add the cluster information as a new column\n",
        "    modified_sheet = add_cluster_info(selected_sheet, selected_column, mem_table, mem_column)\n",
        "\n",
        "    # Step 5: Save the modified sheet back to the workbook\n",
        "    with pd.ExcelWriter('/content/Complexes_modified.xlsx', engine='openpyxl') as writer:\n",
        "        # Write all original sheets back to the workbook, including the modified one\n",
        "        for sheet_name in workbook.sheet_names:\n",
        "            sheet_df = workbook.parse(sheet_name)\n",
        "            # Check if this is the selected sheet, write the modified sheet\n",
        "            if sheet_name == selected_sheet_name:\n",
        "                modified_sheet.to_excel(writer, sheet_name=sheet_name, index=False)\n",
        "            else:\n",
        "                sheet_df.to_excel(writer, sheet_name=sheet_name, index=False)\n",
        "\n",
        "    print(f\"Modified sheet saved as Complexes_modified.xlsx\")\n",
        "\n",
        "# Run the main function\n",
        "main()\n"
      ],
      "metadata": {
        "id": "TWhGBStUwuS-",
        "colab": {
          "base_uri": "https://localhost:8080/"
        },
        "outputId": "15ed17f2-2ad0-421d-be5c-2a87276dd614"
      },
      "execution_count": 40,
      "outputs": [
        {
          "output_type": "stream",
          "name": "stdout",
          "text": [
            "Available sheets:\n",
            "1: Complex_I_hu\n",
            "2: Complex_I_assmbl_hu\n",
            "3: COX_hu\n",
            "4: ATPase_hu\n",
            "\n",
            "Select the sheet which has your complex: 4\n",
            "\n",
            "Available columns:\n",
            "1: name\n",
            "2: entry_name\n",
            "3: protein_name\n",
            "4: gene_name_1\n",
            "5: gene_name_2\n",
            "6: uniprot_id\n",
            "\n",
            "Select the column which has chosen identifier by number: 1\n",
            "\n",
            "Available columns:\n",
            "1: clust_id\n",
            "2: identifier\n",
            "3: rel_abundance\n",
            "4: rel_abundance_z\n",
            "5: frequency\n",
            "6: Matched Identifiers\n",
            "\n",
            "Select the column which has chosen identifier by number: 6\n",
            "Modified sheet saved as Complexes_modified.xlsx\n"
          ]
        }
      ]
    },
    {
      "cell_type": "code",
      "source": [
        "'''\n",
        "12. Vizulaize the protein wise interactor network as a 3D network below\n",
        "for demo, you may select options 1 and 1\n",
        "'''\n",
        "\n",
        "import pandas as pd\n",
        "import networkx as nx\n",
        "import plotly.graph_objs as go\n",
        "import numpy as np\n",
        "import matplotlib.pyplot as plt  # For the viridis colormap\n",
        "\n",
        "# Load your Excel file\n",
        "excel_file = '/content/Complexes_modified.xlsx'  # Update with your file\n",
        "\n",
        "# Load the workbook and list available sheets\n",
        "xls = pd.ExcelFile(excel_file)\n",
        "print(\"Available sheets:\")\n",
        "for i, sheet in enumerate(xls.sheet_names):\n",
        "    print(f\"{i + 1}. {sheet}\")\n",
        "\n",
        "# Ask the user to pick a sheet by number\n",
        "sheet_choice = int(input(\"Pick the sheet which contains your complex: \")) - 1\n",
        "sheet_name = xls.sheet_names[sheet_choice]\n",
        "\n",
        "# Load the selected sheet\n",
        "df = pd.read_excel(excel_file, sheet_name=sheet_name)\n",
        "\n",
        "# List available columns\n",
        "print(\"\\nAvailable columns:\")\n",
        "for i, col in enumerate(df.columns):\n",
        "    print(f\"{i + 1}. {col}\")\n",
        "\n",
        "# Ask the user to pick the column for Proteins (source identifiers)\n",
        "protein_col_choice = int(input(\"Pick the column number for 1: \")) - 1\n",
        "protein_col = df.columns[protein_col_choice]\n",
        "\n",
        "# The Cluster Proteins column is fixed\n",
        "cluster_col = \"Cluster Proteins\"\n",
        "\n",
        "# Create a graph\n",
        "G = nx.Graph()\n",
        "\n",
        "# Add nodes from the Proteins column\n",
        "for protein in df[protein_col]:\n",
        "    G.add_node(protein)\n",
        "\n",
        "# Add edges from the Cluster Proteins column\n",
        "for index, row in df.iterrows():\n",
        "    protein = row[protein_col]\n",
        "    if pd.notna(row[cluster_col]):\n",
        "        connections = str(row[cluster_col]).split(', ')\n",
        "        for connection in connections:\n",
        "            G.add_edge(protein, connection)\n",
        "\n",
        "# Use a spring layout (force-directed layout) in 3D to spread the clusters\n",
        "pos = nx.spring_layout(G, dim=3, seed=42)  # Seed for reproducibility\n",
        "\n",
        "# Create a 3D scatter plot for nodes\n",
        "x_nodes = [pos[node][0] for node in G.nodes]\n",
        "y_nodes = [pos[node][1] for node in G.nodes]\n",
        "z_nodes = [pos[node][2] for node in G.nodes]\n",
        "\n",
        "# Calculate node degrees (number of edges) to use for coloring\n",
        "degrees = dict(G.degree)\n",
        "degree_values = [degrees[node] for node in G.nodes]\n",
        "\n",
        "# Normalize the degrees for the viridis colormap\n",
        "cmap = plt.get_cmap('viridis')\n",
        "norm_degrees = np.array(degree_values) / max(degree_values)\n",
        "node_colors = [cmap(degree) for degree in norm_degrees]\n",
        "\n",
        "# Create edges for the graph\n",
        "edge_x = []\n",
        "edge_y = []\n",
        "edge_z = []\n",
        "for edge in G.edges:\n",
        "    edge_x.extend([pos[edge[0]][0], pos[edge[1]][0], None])  # Adding None to break the line between edges\n",
        "    edge_y.extend([pos[edge[0]][1], pos[edge[1]][1], None])\n",
        "    edge_z.extend([pos[edge[0]][2], pos[edge[1]][2], None])\n",
        "\n",
        "# Create scatter plot for the nodes with coloring based on the degree (connectivity)\n",
        "node_trace = go.Scatter3d(\n",
        "    x=x_nodes,\n",
        "    y=y_nodes,\n",
        "    z=z_nodes,\n",
        "    mode='markers+text',\n",
        "    text=list(G.nodes),\n",
        "    textposition=\"top center\",\n",
        "    hoverinfo='text',\n",
        "    marker=dict(\n",
        "        size=6,\n",
        "        color=[f'rgb({r*255}, {g*255}, {b*255})' for r, g, b, _ in node_colors],  # Convert RGBA to RGB for Plotly\n",
        "        line=dict(width=2)\n",
        "    )\n",
        ")\n",
        "\n",
        "# Create a line plot for edges\n",
        "edge_trace = go.Scatter3d(\n",
        "    x=edge_x,\n",
        "    y=edge_y,\n",
        "    z=edge_z,\n",
        "    mode='lines',\n",
        "    line=dict(color='black', width=2),\n",
        "    hoverinfo='none'\n",
        ")\n",
        "\n",
        "# Create a layout for the 3D plot\n",
        "layout = go.Layout(\n",
        "    title='3D Protein Interaction Network (with Cluster Spread & Degree-Based Colors)',\n",
        "    showlegend=False,\n",
        "    scene=dict(\n",
        "        xaxis=dict(showbackground=False),\n",
        "        yaxis=dict(showbackground=False),\n",
        "        zaxis=dict(showbackground=False)\n",
        "    )\n",
        ")\n",
        "\n",
        "# Plot the figure\n",
        "fig = go.Figure(data=[edge_trace, node_trace], layout=layout)\n",
        "fig.show()\n"
      ],
      "metadata": {
        "id": "NcuF6rzlA9hS",
        "colab": {
          "base_uri": "https://localhost:8080/",
          "height": 807
        },
        "outputId": "60d31995-53d8-454c-c6fd-9034387c8306"
      },
      "execution_count": 41,
      "outputs": [
        {
          "name": "stdout",
          "output_type": "stream",
          "text": [
            "Available sheets:\n",
            "1. Complex_I_hu\n",
            "2. Complex_I_assmbl_hu\n",
            "3. COX_hu\n",
            "4. ATPase_hu\n",
            "Pick the sheet which contains your complex: 1\n",
            "\n",
            "Available columns:\n",
            "1. name\n",
            "2. entry_name\n",
            "3. protein_name\n",
            "4. gene_name_1\n",
            "5. gene_name_2\n",
            "6. uniprot_id\n",
            "Pick the column number for 1: 1\n"
          ]
        },
        {
          "output_type": "error",
          "ename": "KeyError",
          "evalue": "'Cluster Proteins'",
          "traceback": [
            "\u001b[0;31m---------------------------------------------------------------------------\u001b[0m",
            "\u001b[0;31mKeyError\u001b[0m                                  Traceback (most recent call last)",
            "\u001b[0;32m/usr/local/lib/python3.10/dist-packages/pandas/core/indexes/base.py\u001b[0m in \u001b[0;36mget_loc\u001b[0;34m(self, key)\u001b[0m\n\u001b[1;32m   3804\u001b[0m         \u001b[0;32mtry\u001b[0m\u001b[0;34m:\u001b[0m\u001b[0;34m\u001b[0m\u001b[0;34m\u001b[0m\u001b[0m\n\u001b[0;32m-> 3805\u001b[0;31m             \u001b[0;32mreturn\u001b[0m \u001b[0mself\u001b[0m\u001b[0;34m.\u001b[0m\u001b[0m_engine\u001b[0m\u001b[0;34m.\u001b[0m\u001b[0mget_loc\u001b[0m\u001b[0;34m(\u001b[0m\u001b[0mcasted_key\u001b[0m\u001b[0;34m)\u001b[0m\u001b[0;34m\u001b[0m\u001b[0;34m\u001b[0m\u001b[0m\n\u001b[0m\u001b[1;32m   3806\u001b[0m         \u001b[0;32mexcept\u001b[0m \u001b[0mKeyError\u001b[0m \u001b[0;32mas\u001b[0m \u001b[0merr\u001b[0m\u001b[0;34m:\u001b[0m\u001b[0;34m\u001b[0m\u001b[0;34m\u001b[0m\u001b[0m\n",
            "\u001b[0;32mindex.pyx\u001b[0m in \u001b[0;36mpandas._libs.index.IndexEngine.get_loc\u001b[0;34m()\u001b[0m\n",
            "\u001b[0;32mindex.pyx\u001b[0m in \u001b[0;36mpandas._libs.index.IndexEngine.get_loc\u001b[0;34m()\u001b[0m\n",
            "\u001b[0;32mpandas/_libs/hashtable_class_helper.pxi\u001b[0m in \u001b[0;36mpandas._libs.hashtable.PyObjectHashTable.get_item\u001b[0;34m()\u001b[0m\n",
            "\u001b[0;32mpandas/_libs/hashtable_class_helper.pxi\u001b[0m in \u001b[0;36mpandas._libs.hashtable.PyObjectHashTable.get_item\u001b[0;34m()\u001b[0m\n",
            "\u001b[0;31mKeyError\u001b[0m: 'Cluster Proteins'",
            "\nThe above exception was the direct cause of the following exception:\n",
            "\u001b[0;31mKeyError\u001b[0m                                  Traceback (most recent call last)",
            "\u001b[0;32m<ipython-input-41-075f91082322>\u001b[0m in \u001b[0;36m<cell line: 48>\u001b[0;34m()\u001b[0m\n\u001b[1;32m     48\u001b[0m \u001b[0;32mfor\u001b[0m \u001b[0mindex\u001b[0m\u001b[0;34m,\u001b[0m \u001b[0mrow\u001b[0m \u001b[0;32min\u001b[0m \u001b[0mdf\u001b[0m\u001b[0;34m.\u001b[0m\u001b[0miterrows\u001b[0m\u001b[0;34m(\u001b[0m\u001b[0;34m)\u001b[0m\u001b[0;34m:\u001b[0m\u001b[0;34m\u001b[0m\u001b[0;34m\u001b[0m\u001b[0m\n\u001b[1;32m     49\u001b[0m     \u001b[0mprotein\u001b[0m \u001b[0;34m=\u001b[0m \u001b[0mrow\u001b[0m\u001b[0;34m[\u001b[0m\u001b[0mprotein_col\u001b[0m\u001b[0;34m]\u001b[0m\u001b[0;34m\u001b[0m\u001b[0;34m\u001b[0m\u001b[0m\n\u001b[0;32m---> 50\u001b[0;31m     \u001b[0;32mif\u001b[0m \u001b[0mpd\u001b[0m\u001b[0;34m.\u001b[0m\u001b[0mnotna\u001b[0m\u001b[0;34m(\u001b[0m\u001b[0mrow\u001b[0m\u001b[0;34m[\u001b[0m\u001b[0mcluster_col\u001b[0m\u001b[0;34m]\u001b[0m\u001b[0;34m)\u001b[0m\u001b[0;34m:\u001b[0m\u001b[0;34m\u001b[0m\u001b[0;34m\u001b[0m\u001b[0m\n\u001b[0m\u001b[1;32m     51\u001b[0m         \u001b[0mconnections\u001b[0m \u001b[0;34m=\u001b[0m \u001b[0mstr\u001b[0m\u001b[0;34m(\u001b[0m\u001b[0mrow\u001b[0m\u001b[0;34m[\u001b[0m\u001b[0mcluster_col\u001b[0m\u001b[0;34m]\u001b[0m\u001b[0;34m)\u001b[0m\u001b[0;34m.\u001b[0m\u001b[0msplit\u001b[0m\u001b[0;34m(\u001b[0m\u001b[0;34m', '\u001b[0m\u001b[0;34m)\u001b[0m\u001b[0;34m\u001b[0m\u001b[0;34m\u001b[0m\u001b[0m\n\u001b[1;32m     52\u001b[0m         \u001b[0;32mfor\u001b[0m \u001b[0mconnection\u001b[0m \u001b[0;32min\u001b[0m \u001b[0mconnections\u001b[0m\u001b[0;34m:\u001b[0m\u001b[0;34m\u001b[0m\u001b[0;34m\u001b[0m\u001b[0m\n",
            "\u001b[0;32m/usr/local/lib/python3.10/dist-packages/pandas/core/series.py\u001b[0m in \u001b[0;36m__getitem__\u001b[0;34m(self, key)\u001b[0m\n\u001b[1;32m   1119\u001b[0m \u001b[0;34m\u001b[0m\u001b[0m\n\u001b[1;32m   1120\u001b[0m         \u001b[0;32melif\u001b[0m \u001b[0mkey_is_scalar\u001b[0m\u001b[0;34m:\u001b[0m\u001b[0;34m\u001b[0m\u001b[0;34m\u001b[0m\u001b[0m\n\u001b[0;32m-> 1121\u001b[0;31m             \u001b[0;32mreturn\u001b[0m \u001b[0mself\u001b[0m\u001b[0;34m.\u001b[0m\u001b[0m_get_value\u001b[0m\u001b[0;34m(\u001b[0m\u001b[0mkey\u001b[0m\u001b[0;34m)\u001b[0m\u001b[0;34m\u001b[0m\u001b[0;34m\u001b[0m\u001b[0m\n\u001b[0m\u001b[1;32m   1122\u001b[0m \u001b[0;34m\u001b[0m\u001b[0m\n\u001b[1;32m   1123\u001b[0m         \u001b[0;31m# Convert generator to list before going through hashable part\u001b[0m\u001b[0;34m\u001b[0m\u001b[0;34m\u001b[0m\u001b[0m\n",
            "\u001b[0;32m/usr/local/lib/python3.10/dist-packages/pandas/core/series.py\u001b[0m in \u001b[0;36m_get_value\u001b[0;34m(self, label, takeable)\u001b[0m\n\u001b[1;32m   1235\u001b[0m \u001b[0;34m\u001b[0m\u001b[0m\n\u001b[1;32m   1236\u001b[0m         \u001b[0;31m# Similar to Index.get_value, but we do not fall back to positional\u001b[0m\u001b[0;34m\u001b[0m\u001b[0;34m\u001b[0m\u001b[0m\n\u001b[0;32m-> 1237\u001b[0;31m         \u001b[0mloc\u001b[0m \u001b[0;34m=\u001b[0m \u001b[0mself\u001b[0m\u001b[0;34m.\u001b[0m\u001b[0mindex\u001b[0m\u001b[0;34m.\u001b[0m\u001b[0mget_loc\u001b[0m\u001b[0;34m(\u001b[0m\u001b[0mlabel\u001b[0m\u001b[0;34m)\u001b[0m\u001b[0;34m\u001b[0m\u001b[0;34m\u001b[0m\u001b[0m\n\u001b[0m\u001b[1;32m   1238\u001b[0m \u001b[0;34m\u001b[0m\u001b[0m\n\u001b[1;32m   1239\u001b[0m         \u001b[0;32mif\u001b[0m \u001b[0mis_integer\u001b[0m\u001b[0;34m(\u001b[0m\u001b[0mloc\u001b[0m\u001b[0;34m)\u001b[0m\u001b[0;34m:\u001b[0m\u001b[0;34m\u001b[0m\u001b[0;34m\u001b[0m\u001b[0m\n",
            "\u001b[0;32m/usr/local/lib/python3.10/dist-packages/pandas/core/indexes/base.py\u001b[0m in \u001b[0;36mget_loc\u001b[0;34m(self, key)\u001b[0m\n\u001b[1;32m   3810\u001b[0m             ):\n\u001b[1;32m   3811\u001b[0m                 \u001b[0;32mraise\u001b[0m \u001b[0mInvalidIndexError\u001b[0m\u001b[0;34m(\u001b[0m\u001b[0mkey\u001b[0m\u001b[0;34m)\u001b[0m\u001b[0;34m\u001b[0m\u001b[0;34m\u001b[0m\u001b[0m\n\u001b[0;32m-> 3812\u001b[0;31m             \u001b[0;32mraise\u001b[0m \u001b[0mKeyError\u001b[0m\u001b[0;34m(\u001b[0m\u001b[0mkey\u001b[0m\u001b[0;34m)\u001b[0m \u001b[0;32mfrom\u001b[0m \u001b[0merr\u001b[0m\u001b[0;34m\u001b[0m\u001b[0;34m\u001b[0m\u001b[0m\n\u001b[0m\u001b[1;32m   3813\u001b[0m         \u001b[0;32mexcept\u001b[0m \u001b[0mTypeError\u001b[0m\u001b[0;34m:\u001b[0m\u001b[0;34m\u001b[0m\u001b[0;34m\u001b[0m\u001b[0m\n\u001b[1;32m   3814\u001b[0m             \u001b[0;31m# If we have a listlike key, _check_indexing_error will raise\u001b[0m\u001b[0;34m\u001b[0m\u001b[0;34m\u001b[0m\u001b[0m\n",
            "\u001b[0;31mKeyError\u001b[0m: 'Cluster Proteins'"
          ]
        }
      ]
    }
  ],
  "metadata": {
    "colab": {
      "provenance": []
    },
    "kernelspec": {
      "display_name": "Python 3",
      "name": "python3"
    },
    "language_info": {
      "name": "python"
    }
  },
  "nbformat": 4,
  "nbformat_minor": 0
}